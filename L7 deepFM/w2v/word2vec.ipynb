{
 "cells": [
  {
   "cell_type": "code",
   "execution_count": 45,
   "metadata": {},
   "outputs": [],
   "source": [
    "import os\n",
    "import jieba\n",
    "from gensim.models import word2vec"
   ]
  },
  {
   "cell_type": "code",
   "execution_count": 82,
   "metadata": {},
   "outputs": [],
   "source": [
    "def segment_lines(file,stopwords=[]):\n",
    "        with open(file, 'rb') as f:\n",
    "            document = f.read()\n",
    "            document_cut = jieba.cut(document)\n",
    "            sentence_segment=[]\n",
    "            for word in document_cut:\n",
    "                if word not in stopwords:\n",
    "                    sentence_segment.append(word)\n",
    "            result = ' '.join(sentence_segment)\n",
    "            result = result.encode('utf-8')\n",
    "            segment_out_name=os.path.join('./segment','segment.txt')\n",
    "            with open( './segment/segment.txt','wb') as f2:\n",
    "                f2.write(result)\n",
    "            return result"
   ]
  },
  {
   "cell_type": "code",
   "execution_count": 83,
   "metadata": {},
   "outputs": [],
   "source": [
    "\n",
    "stopwords=[]\n",
    "for word in open('stop_words','r',encoding='utf-8'):\n",
    "    stopwords.append(word.strip())\n",
    "#print(stopwords)\n",
    "    \n",
    "result=segment_lines('三国.txt',stopwords)\n",
    "#print(result)"
   ]
  },
  {
   "cell_type": "code",
   "execution_count": 84,
   "metadata": {},
   "outputs": [
    {
     "name": "stdout",
     "output_type": "stream",
     "text": [
      "0.99995446\n"
     ]
    }
   ],
   "source": [
    "sentences = word2vec.PathLineSentences('./segment')\n",
    "model = word2vec.Word2Vec(sentences, size=128, window=5, min_count=1)\n",
    "print(model.wv.similarity('刘备', '曹操'))"
   ]
  },
  {
   "cell_type": "code",
   "execution_count": 85,
   "metadata": {},
   "outputs": [
    {
     "name": "stdout",
     "output_type": "stream",
     "text": [
      "[('丞相', 0.9999557137489319), ('瑜', 0.9999533891677856), ('欲', 0.9999526739120483), ('耳', 0.999950647354126), ('非', 0.9999502897262573), ('耶', 0.9999498128890991), ('朕', 0.9999492168426514), ('懿', 0.9999481439590454), ('肃', 0.9999449253082275), ('谓', 0.9999418258666992)]\n"
     ]
    }
   ],
   "source": [
    "print(model.wv.most_similar(positive=['刘备', '曹操'], negative=['张飞']))\n"
   ]
  },
  {
   "cell_type": "code",
   "execution_count": null,
   "metadata": {},
   "outputs": [],
   "source": []
  }
 ],
 "metadata": {
  "kernelspec": {
   "display_name": "Python 3",
   "language": "python",
   "name": "python3"
  },
  "language_info": {
   "codemirror_mode": {
    "name": "ipython",
    "version": 3
   },
   "file_extension": ".py",
   "mimetype": "text/x-python",
   "name": "python",
   "nbconvert_exporter": "python",
   "pygments_lexer": "ipython3",
   "version": "3.7.2"
  }
 },
 "nbformat": 4,
 "nbformat_minor": 2
}
