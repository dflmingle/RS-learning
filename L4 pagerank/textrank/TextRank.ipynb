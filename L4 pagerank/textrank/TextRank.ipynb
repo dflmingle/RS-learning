{
 "cells": [
  {
   "cell_type": "code",
   "execution_count": 2,
   "metadata": {},
   "outputs": [],
   "source": [
    "from textrank4zh import TextRank4Keyword, TextRank4Sentence\n"
   ]
  },
  {
   "cell_type": "code",
   "execution_count": 15,
   "metadata": {},
   "outputs": [
    {
     "name": "stdout",
     "output_type": "stream",
     "text": [
      "关键词：\n",
      "土耳其 0.04069520917096793\n",
      "美国 0.0369142527418084\n",
      "说 0.02446922676052611\n",
      "没有 0.023786570392058257\n",
      "袭击 0.017700149279091273\n",
      "特种部队 0.017412575896103233\n",
      "炮击 0.017115219350455936\n",
      "遭到 0.016625479650103248\n",
      "报道 0.01588545076733542\n",
      "进行 0.015360109277853728\n",
      "官员 0.01289429340340466\n",
      "新闻周刊 0.0124159192792039\n",
      "军队 0.012101622809814312\n",
      "炮弹 0.011975939251251714\n",
      "还击 0.011652728049471862\n",
      "观察哨 0.011553223050069785\n",
      "边境 0.01152755141124453\n",
      "城市 0.01117250958722105\n",
      "科巴 0.01117250958722105\n",
      "山丘 0.01117250958722105\n",
      "摘要：\n",
      "2 0.08591468923918809 五角大楼一名高级官员说，土耳其军队的炮击非常猛烈，美国人员曾考虑进行还击是出于自卫\n",
      "5 0.0783434449568913 《新闻周刊》此前曾在周三报道说，目前美国军队的交战规则仍然以自卫为中心，五角大楼还没有发布全面撤出叙利亚的命令\n",
      "6 0.07572455879841139 这名五角大楼官员说，土耳其部队应该了解美国的位置，不过，这名官员没有具体说明在场人员的确切人数，但表示大约在15到100人之间\n"
     ]
    }
   ],
   "source": [
    "fi=open('./news.txt')\n",
    "text=list()\n",
    "\n",
    "for line in fi:\n",
    "    text.append(line)\n",
    "text=\"\".join(text)\n",
    "#print (text)\n",
    "\n",
    "# 输出关键词，设置文本小写，窗口为2\n",
    "tr4w = TextRank4Keyword()\n",
    "tr4w.analyze(text=text,window=2)\n",
    "print('关键词：')\n",
    "for item in tr4w.get_keywords(20, word_min_len=1):\n",
    "    print(item.word, item.weight)\n",
    "\n",
    "# 输出重要的句子\n",
    "tr4s = TextRank4Sentence()\n",
    "tr4s.analyze(text=text, source = 'all_filters')\n",
    "print('摘要：')\n",
    "# 重要性较高的三个句子\n",
    "for item in tr4s.get_key_sentences(num=3):\n",
    "        # index是语句在文本中位置，weight表示权重\n",
    "    print(item.index, item.weight, item.sentence)"
   ]
  },
  {
   "cell_type": "code",
   "execution_count": null,
   "metadata": {},
   "outputs": [],
   "source": []
  }
 ],
 "metadata": {
  "kernelspec": {
   "display_name": "Python 3",
   "language": "python",
   "name": "python3"
  },
  "language_info": {
   "codemirror_mode": {
    "name": "ipython",
    "version": 3
   },
   "file_extension": ".py",
   "mimetype": "text/x-python",
   "name": "python",
   "nbconvert_exporter": "python",
   "pygments_lexer": "ipython3",
   "version": "3.7.2"
  }
 },
 "nbformat": 4,
 "nbformat_minor": 2
}
