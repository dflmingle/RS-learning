{
 "cells": [
  {
   "cell_type": "code",
   "execution_count": 14,
   "metadata": {},
   "outputs": [
    {
     "name": "stdout",
     "output_type": "stream",
     "text": [
      "样本集大小为7501.\n"
     ]
    }
   ],
   "source": [
    "import nltk\n",
    "from wordcloud import WordCloud\n",
    "\n",
    "#词云\n",
    "def creat_word_cloud(fi):\n",
    "    fi=open(fi)\n",
    "    cut_text=list()\n",
    "    lineNum=0\n",
    "\n",
    "    for line in fi:\n",
    "        for item in line.strip('\\n').split(','):\n",
    "           cut_text.append(item)\n",
    "        lineNum+=1\n",
    "    print(\"样本集大小为%d.\"%(lineNum))\n",
    "    #print(cut_text)\n",
    "    cut_text=\" \".join(cut_text)\n",
    "    #print(cut_text)\n",
    "    wc = WordCloud(\n",
    "      max_words=100,\n",
    "      width=2000,\n",
    "    height=1200,)\n",
    "    wordcloud = wc.generate(cut_text)\n",
    "    #print(wordcloud)\n",
    "    wordcloud.to_file(\"wordcloud.jpg\")\n",
    "creat_word_cloud('./Market_Basket_Optimisation.csv')\n"
   ]
  },
  {
   "cell_type": "code",
   "execution_count": 39,
   "metadata": {},
   "outputs": [
    {
     "name": "stdout",
     "output_type": "stream",
     "text": [
      "样本集大小为7501.\n",
      "[('mineral water', 1788), ('eggs', 1348), ('spaghetti', 1306), ('french fries', 1282), ('chocolate', 1230), ('green tea', 991), ('milk', 972), ('ground beef', 737), ('frozen vegetables', 715), ('pancakes', 713)]\n"
     ]
    },
    {
     "data": {
      "image/png": "[encoded data removed]",
      "text/plain": [
       "<Figure size 432x288 with 1 Axes>"
      ]
     },
     "metadata": {
      "needs_background": "light"
     },
     "output_type": "display_data"
    }
   ],
   "source": [
    "import operator\n",
    "import matplotlib.pyplot as plt\n",
    "\n",
    "#top10 的条形图\n",
    "def create_top10_bar(fi):\n",
    "    fi=open(fi)\n",
    "    cut_text=list()\n",
    "    lineNum=0\n",
    "\n",
    "    for line in fi:\n",
    "        for item in line.strip('\\n').split(','):\n",
    "           cut_text.append(item)\n",
    "        lineNum+=1\n",
    "    print(\"样本集大小为%d.\"%(lineNum))\n",
    "    items=dict()\n",
    "    for item in cut_text:\n",
    "        if item not in items:\n",
    "            items[item]=1\n",
    "        else:\n",
    "            items[item]+=1\n",
    "    #print(items)\n",
    "    top10item=sorted(items.items(), key=operator.itemgetter(1), reverse=True)[0:10]\n",
    "    print(top10item)\n",
    "\n",
    "    x=list()\n",
    "    y=list()\n",
    "    for key,value in top10item:\n",
    "        x.append(key)\n",
    "        y.append(value)\n",
    "#    print(x,y)\n",
    "    plt.barh(x,y)\n",
    "    plt.show()\n",
    "create_top10_bar('./Market_Basket_Optimisation.csv')"
   ]
  },
  {
   "cell_type": "code",
   "execution_count": null,
   "metadata": {},
   "outputs": [],
   "source": []
  }
 ],
 "metadata": {
  "kernelspec": {
   "display_name": "Python 3",
   "language": "python",
   "name": "python3"
  },
  "language_info": {
   "codemirror_mode": {
    "name": "ipython",
    "version": 3
   },
   "file_extension": ".py",
   "mimetype": "text/x-python",
   "name": "python",
   "nbconvert_exporter": "python",
   "pygments_lexer": "ipython3",
   "version": "3.7.2"
  }
 },
 "nbformat": 4,
 "nbformat_minor": 2
}
