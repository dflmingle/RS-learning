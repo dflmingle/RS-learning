{
 "cells": [
  {
   "cell_type": "code",
   "execution_count": 1,
   "metadata": {},
   "outputs": [],
   "source": [
    "import pandas as pd\n",
    "from sklearn.model_selection import train_test_split\n",
    "from sklearn.preprocessing import LabelEncoder\n",
    "from deepctr.models import WDL\n",
    "from deepctr.inputs import  SparseFeat, DenseFeat,get_feature_names\n",
    "from sklearn.metrics import mean_squared_error"
   ]
  },
  {
   "cell_type": "code",
   "execution_count": 2,
   "metadata": {},
   "outputs": [],
   "source": [
    "data=pd.read_csv('./ratings.csv')"
   ]
  },
  {
   "cell_type": "code",
   "execution_count": 3,
   "metadata": {},
   "outputs": [
    {
     "name": "stdout",
     "output_type": "stream",
     "text": [
      "<bound method NDFrame.head of          userId  movieId  rating   timestamp\n",
      "0             1        2     3.5  1112486027\n",
      "1             1       29     3.5  1112484676\n",
      "2             1       32     3.5  1112484819\n",
      "3             1       47     3.5  1112484727\n",
      "4             1       50     3.5  1112484580\n",
      "...         ...      ...     ...         ...\n",
      "1048570    7120      168     5.0  1175543061\n",
      "1048571    7120      253     4.0  1175542225\n",
      "1048572    7120      260     5.0  1175542035\n",
      "1048573    7120      261     4.0  1175543376\n",
      "1048574    7120      266     3.5  1175542454\n",
      "\n",
      "[1048575 rows x 4 columns]>\n",
      "(1048575, 4)\n"
     ]
    }
   ],
   "source": [
    "print(data.head)\n",
    "print(data.shape)"
   ]
  },
  {
   "cell_type": "code",
   "execution_count": 4,
   "metadata": {},
   "outputs": [
    {
     "name": "stdout",
     "output_type": "stream",
     "text": [
      "[SparseFeat:userId, SparseFeat:movieId]\n"
     ]
    }
   ],
   "source": [
    "sparse_features = [\"userId\", \"movieId\"]\n",
    "target = ['rating']\n",
    "data[sparse_features] = data[sparse_features].fillna('-1', )\n",
    "sparse_feature_columns = [SparseFeat(feat, data[feat].nunique())\n",
    "                        for feat in sparse_features]\n",
    "print(sparse_feature_columns)"
   ]
  },
  {
   "cell_type": "code",
   "execution_count": 5,
   "metadata": {},
   "outputs": [],
   "source": [
    "for feat in sparse_features:\n",
    "    lbe = LabelEncoder()\n",
    "    data[feat] = lbe.fit_transform(data[feat])"
   ]
  },
  {
   "cell_type": "code",
   "execution_count": 6,
   "metadata": {},
   "outputs": [
    {
     "name": "stdout",
     "output_type": "stream",
     "text": [
      "['userId', 'movieId']\n"
     ]
    }
   ],
   "source": [
    "dnn_feature_columns = sparse_feature_columns \n",
    "linear_feature_columns = sparse_feature_columns \n",
    "\n",
    "feature_names = get_feature_names(linear_feature_columns + dnn_feature_columns)\n",
    "print(feature_names)"
   ]
  },
  {
   "cell_type": "code",
   "execution_count": 7,
   "metadata": {},
   "outputs": [],
   "source": [
    "train, test = train_test_split(data, test_size=0.2)\n",
    "train_model_input = {name:train[name].values for name in feature_names}\n",
    "test_model_input = {name:test[name].values for name in feature_names}\n"
   ]
  },
  {
   "cell_type": "markdown",
   "metadata": {},
   "source": [
    "使用Wide & Deep进行训练"
   ]
  },
  {
   "cell_type": "code",
   "execution_count": 8,
   "metadata": {},
   "outputs": [
    {
     "name": "stderr",
     "output_type": "stream",
     "text": [
      "WARNING: Logging before flag parsing goes to stderr.\n",
      "W1111 13:41:34.698973 20736 deprecation.py:506] From c:\\users\\lx\\appdata\\local\\programs\\python\\python37\\lib\\site-packages\\tensorflow\\python\\keras\\initializers.py:143: calling RandomNormal.__init__ (from tensorflow.python.ops.init_ops) with dtype is deprecated and will be removed in a future version.\n",
      "Instructions for updating:\n",
      "Call initializer instance with the dtype argument instead of passing it to the constructor\n",
      "W1111 13:41:35.214530 20736 deprecation.py:506] From c:\\users\\lx\\appdata\\local\\programs\\python\\python37\\lib\\site-packages\\tensorflow\\python\\autograph\\impl\\api.py:253: calling reduce_sum_v1 (from tensorflow.python.ops.math_ops) with keep_dims is deprecated and will be removed in a future version.\n",
      "Instructions for updating:\n",
      "keep_dims is deprecated, use keepdims instead\n",
      "W1111 13:41:35.254910 20736 deprecation.py:506] From c:\\users\\lx\\appdata\\local\\programs\\python\\python37\\lib\\site-packages\\tensorflow\\python\\ops\\init_ops.py:1288: calling VarianceScaling.__init__ (from tensorflow.python.ops.init_ops) with dtype is deprecated and will be removed in a future version.\n",
      "Instructions for updating:\n",
      "Call initializer instance with the dtype argument instead of passing it to the constructor\n"
     ]
    },
    {
     "name": "stdout",
     "output_type": "stream",
     "text": [
      "Train on 671088 samples, validate on 167772 samples\n",
      "Epoch 1/10\n",
      "671088/671088 [==============================] - 41s 61us/sample - loss: 0.9379 - mean_squared_error: 0.9365 - val_loss: 0.7357 - val_mean_squared_error: 0.7331\n",
      "Epoch 2/10\n",
      "671088/671088 [==============================] - 44s 66us/sample - loss: 0.7161 - mean_squared_error: 0.7123 - val_loss: 0.7198 - val_mean_squared_error: 0.7147\n",
      "Epoch 3/10\n",
      "671088/671088 [==============================] - 46s 69us/sample - loss: 0.6912 - mean_squared_error: 0.6849 - val_loss: 0.7146 - val_mean_squared_error: 0.7072\n",
      "Epoch 4/10\n",
      "671088/671088 [==============================] - 38s 56us/sample - loss: 0.6713 - mean_squared_error: 0.6627 - val_loss: 0.7092 - val_mean_squared_error: 0.6997\n",
      "Epoch 5/10\n",
      "671088/671088 [==============================] - 41s 61us/sample - loss: 0.6571 - mean_squared_error: 0.6465 - val_loss: 0.7228 - val_mean_squared_error: 0.7113\n",
      "Epoch 6/10\n",
      "671088/671088 [==============================] - 42s 63us/sample - loss: 0.6436 - mean_squared_error: 0.6312 - val_loss: 0.7172 - val_mean_squared_error: 0.7040\n",
      "Epoch 7/10\n",
      "671088/671088 [==============================] - 47s 70us/sample - loss: 0.6305 - mean_squared_error: 0.6165 - val_loss: 0.7199 - val_mean_squared_error: 0.7052\n",
      "Epoch 8/10\n",
      "671088/671088 [==============================] - 47s 70us/sample - loss: 0.6194 - mean_squared_error: 0.6039 - val_loss: 0.7205 - val_mean_squared_error: 0.7044\n",
      "Epoch 9/10\n",
      "671088/671088 [==============================] - 45s 66us/sample - loss: 0.6092 - mean_squared_error: 0.5923 - val_loss: 0.7332 - val_mean_squared_error: 0.7157\n",
      "Epoch 10/10\n",
      "671088/671088 [==============================] - 43s 64us/sample - loss: 0.6008 - mean_squared_error: 0.5826 - val_loss: 0.7324 - val_mean_squared_error: 0.7137\n"
     ]
    }
   ],
   "source": [
    "model = WDL(linear_feature_columns, dnn_feature_columns, task='regression')\n",
    "model.compile(\"adam\", \"mse\", metrics=['mse'], )\n",
    "history = model.fit(train_model_input, train[target].values,batch_size=256, epochs=10, verbose=True, validation_split=0.2,)"
   ]
  },
  {
   "cell_type": "markdown",
   "metadata": {},
   "source": [
    "使用Wide & Deep进行预测"
   ]
  },
  {
   "cell_type": "code",
   "execution_count": 9,
   "metadata": {},
   "outputs": [
    {
     "name": "stdout",
     "output_type": "stream",
     "text": [
      "test RMSE 0.848528137423857\n"
     ]
    }
   ],
   "source": [
    "pred_ans = model.predict(test_model_input, batch_size=256)\n",
    "\n",
    "mse=round(mean_squared_error(test[target].values,pred_ans),4)\n",
    "rmse=mse**0.5\n",
    "print('test RMSE',rmse)"
   ]
  },
  {
   "cell_type": "code",
   "execution_count": null,
   "metadata": {},
   "outputs": [],
   "source": []
  }
 ],
 "metadata": {
  "kernelspec": {
   "display_name": "Python 3",
   "language": "python",
   "name": "python3"
  },
  "language_info": {
   "codemirror_mode": {
    "name": "ipython",
    "version": 3
   },
   "file_extension": ".py",
   "mimetype": "text/x-python",
   "name": "python",
   "nbconvert_exporter": "python",
   "pygments_lexer": "ipython3",
   "version": "3.7.2"
  }
 },
 "nbformat": 4,
 "nbformat_minor": 2
}
